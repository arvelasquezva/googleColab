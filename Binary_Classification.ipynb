{
  "nbformat": 4,
  "nbformat_minor": 0,
  "metadata": {
    "jupytext": {
      "cell_metadata_filter": "-all",
      "formats": "ipynb"
    },
    "kernelspec": {
      "display_name": "Python 3",
      "language": "python",
      "name": "python3"
    },
    "language_info": {
      "codemirror_mode": {
        "name": "ipython",
        "version": 3
      },
      "file_extension": ".py",
      "mimetype": "text/x-python",
      "name": "python",
      "nbconvert_exporter": "python",
      "pygments_lexer": "ipython3",
      "version": "3.6.5"
    },
    "colab": {
      "name": "Binary_Classification.ipynb",
      "provenance": [],
      "toc_visible": true
    }
  },
  "cells": [
    {
      "cell_type": "markdown",
      "metadata": {
        "id": "-dtU5FxuK2on"
      },
      "source": [
        "# Introduction #\n",
        "\n",
        "In this exercise, you'll build a model to predict hotel cancellations with a binary classifier."
      ]
    },
    {
      "cell_type": "code",
      "metadata": {
        "lines_to_next_cell": 0,
        "id": "i22lyrwYK2oo"
      },
      "source": [
        "# Setup plotting\n",
        "import matplotlib.pyplot as plt\n",
        "plt.style.use('seaborn-whitegrid')\n",
        "# Set Matplotlib defaults\n",
        "plt.rc('figure', autolayout=True)\n",
        "plt.rc('axes', labelweight='bold', labelsize='large',\n",
        "       titleweight='bold', titlesize=18, titlepad=10)\n",
        "plt.rc('animation', html='html5')\n"
      ],
      "execution_count": null,
      "outputs": []
    },
    {
      "cell_type": "markdown",
      "metadata": {
        "id": "LiQESbJcK2op"
      },
      "source": [
        "First, load the *Hotel Cancellations* dataset."
      ]
    },
    {
      "cell_type": "code",
      "metadata": {
        "lines_to_next_cell": 2,
        "id": "6ACE0AoJK2op"
      },
      "source": [
        "import pandas as pd\n",
        "\n",
        "from sklearn.model_selection import train_test_split\n",
        "from sklearn.preprocessing import StandardScaler, OneHotEncoder\n",
        "from sklearn.impute import SimpleImputer\n",
        "from sklearn.pipeline import make_pipeline\n",
        "from sklearn.compose import make_column_transformer\n",
        "\n",
        "hotel = pd.read_csv('hotel.csv')\n",
        "\n",
        "X = hotel.copy()\n",
        "y = X.pop('is_canceled')\n",
        "\n",
        "X['arrival_date_month'] = \\\n",
        "    X['arrival_date_month'].map(\n",
        "        {'January':1, 'February': 2, 'March':3,\n",
        "         'April':4, 'May':5, 'June':6, 'July':7,\n",
        "         'August':8, 'September':9, 'October':10,\n",
        "         'November':11, 'December':12}\n",
        "    )\n",
        "\n",
        "features_num = [\n",
        "    \"lead_time\", \"arrival_date_week_number\",\n",
        "    \"arrival_date_day_of_month\", \"stays_in_weekend_nights\",\n",
        "    \"stays_in_week_nights\", \"adults\", \"children\", \"babies\",\n",
        "    \"is_repeated_guest\", \"previous_cancellations\",\n",
        "    \"previous_bookings_not_canceled\", \"required_car_parking_spaces\",\n",
        "    \"total_of_special_requests\", \"adr\",\n",
        "]\n",
        "features_cat = [\n",
        "    \"hotel\", \"arrival_date_month\", \"meal\",\n",
        "    \"market_segment\", \"distribution_channel\",\n",
        "    \"reserved_room_type\", \"deposit_type\", \"customer_type\",\n",
        "]\n",
        "\n",
        "transformer_num = make_pipeline(\n",
        "    SimpleImputer(strategy=\"constant\"), # there are a few missing values\n",
        "    StandardScaler(),\n",
        ")\n",
        "transformer_cat = make_pipeline(\n",
        "    SimpleImputer(strategy=\"constant\", fill_value=\"NA\"),\n",
        "    OneHotEncoder(handle_unknown='ignore'),\n",
        ")\n",
        "\n",
        "preprocessor = make_column_transformer(\n",
        "    (transformer_num, features_num),\n",
        "    (transformer_cat, features_cat),\n",
        ")\n",
        "\n",
        "# stratify - make sure classes are evenlly represented across splits\n",
        "X_train, X_valid, y_train, y_valid = \\\n",
        "    train_test_split(X, y, stratify=y, train_size=0.75)\n",
        "\n",
        "X_train = preprocessor.fit_transform(X_train)\n",
        "X_valid = preprocessor.transform(X_valid)\n",
        "\n",
        "input_shape = [X_train.shape[1]]"
      ],
      "execution_count": null,
      "outputs": []
    },
    {
      "cell_type": "markdown",
      "metadata": {
        "id": "s-SNKxS0K2oq"
      },
      "source": [
        "# 1) Define Model #\n",
        "\n",
        "The model we'll use this time will have both batch normalization and dropout layers. To ease reading we've broken the diagram into blocks, but you can define it layer by layer as usual.\n",
        "\n",
        "Define a model with an architecture given by this diagram:\n",
        "\n",
        "<figure style=\"padding: 1em;\">\n",
        "<img src=\"https://i.imgur.com/V04o59Z.png\" width=\"400\" alt=\"Diagram of network architecture: BatchNorm, Dense, BatchNorm, Dropout, Dense, BatchNorm, Dropout, Dense.\">\n",
        "<figcaption style=\"textalign: center; font-style: italic\"><center>Diagram of a binary classifier.</center></figcaption>\n",
        "</figure>\n"
      ]
    },
    {
      "cell_type": "code",
      "metadata": {
        "lines_to_next_cell": 2,
        "id": "uciHQZB1K2oq"
      },
      "source": [
        "from tensorflow import keras\n",
        "from tensorflow.keras import layers\n",
        "\n",
        "# YOUR CODE HERE: define the model given in the diagram\n",
        "model = keras.Sequential([\n",
        "    layers.Dense(256, activation='relu', input_shape=[X_train.shape[1]]),\n",
        "    layers.Dense(256, activation='relu'),    \n",
        "    layers.Dense(1, activation='sigmoid'),\n",
        "])\n"
      ],
      "execution_count": null,
      "outputs": []
    },
    {
      "cell_type": "markdown",
      "metadata": {
        "id": "fK_bau49K2or"
      },
      "source": [
        "# 2) Add Optimizer, Loss, and Metric #\n",
        "\n",
        "Now compile the model with the Adam optimizer and binary versions of the cross-entropy loss and accuracy metric."
      ]
    },
    {
      "cell_type": "code",
      "metadata": {
        "lines_to_next_cell": 0,
        "id": "xITo9z7vK2or"
      },
      "source": [
        "model.compile(\n",
        "    optimizer='adam',\n",
        "    loss='binary_crossentropy',\n",
        "    metrics=['binary_accuracy'],\n",
        ")"
      ],
      "execution_count": null,
      "outputs": []
    },
    {
      "cell_type": "markdown",
      "metadata": {
        "id": "SHKytRxYK2os"
      },
      "source": [
        "Finally, run this cell to train the model and view the learning curves. It may run for around 60 to 70 epochs, which could take a minute or two."
      ]
    },
    {
      "cell_type": "code",
      "metadata": {
        "id": "cYsAXRWnK2os",
        "colab": {
          "base_uri": "https://localhost:8080/",
          "height": 1000
        },
        "outputId": "39acf597-60a4-4866-c3c1-6166556eab47"
      },
      "source": [
        "early_stopping = keras.callbacks.EarlyStopping(\n",
        "    patience=5,\n",
        "    min_delta=0.001,\n",
        "    restore_best_weights=True,\n",
        ")\n",
        "history = model.fit(\n",
        "    X_train, y_train,\n",
        "    validation_data=(X_valid, y_valid),\n",
        "    batch_size=512,\n",
        "    epochs=200,\n",
        "    callbacks=[early_stopping],\n",
        ")\n",
        "\n",
        "history_df = pd.DataFrame(history.history)\n",
        "history_df.loc[:, ['loss', 'val_loss']].plot(title=\"Cross-entropy\")\n",
        "history_df.loc[:, ['binary_accuracy', 'val_binary_accuracy']].plot(title=\"Accuracy\")"
      ],
      "execution_count": null,
      "outputs": [
        {
          "output_type": "stream",
          "text": [
            "Epoch 1/200\n",
            "175/175 [==============================] - 2s 10ms/step - loss: 0.4873 - binary_accuracy: 0.7581 - val_loss: 0.4090 - val_binary_accuracy: 0.8085\n",
            "Epoch 2/200\n",
            "175/175 [==============================] - 2s 9ms/step - loss: 0.4004 - binary_accuracy: 0.8133 - val_loss: 0.3946 - val_binary_accuracy: 0.8196\n",
            "Epoch 3/200\n",
            "175/175 [==============================] - 2s 9ms/step - loss: 0.3838 - binary_accuracy: 0.8203 - val_loss: 0.3845 - val_binary_accuracy: 0.8222\n",
            "Epoch 4/200\n",
            "175/175 [==============================] - 1s 9ms/step - loss: 0.3812 - binary_accuracy: 0.8236 - val_loss: 0.3812 - val_binary_accuracy: 0.8252\n",
            "Epoch 5/200\n",
            "175/175 [==============================] - 2s 9ms/step - loss: 0.3671 - binary_accuracy: 0.8303 - val_loss: 0.3754 - val_binary_accuracy: 0.8242\n",
            "Epoch 6/200\n",
            "175/175 [==============================] - 2s 9ms/step - loss: 0.3604 - binary_accuracy: 0.8334 - val_loss: 0.3699 - val_binary_accuracy: 0.8317\n",
            "Epoch 7/200\n",
            "175/175 [==============================] - 2s 9ms/step - loss: 0.3516 - binary_accuracy: 0.8385 - val_loss: 0.3692 - val_binary_accuracy: 0.8305\n",
            "Epoch 8/200\n",
            "175/175 [==============================] - 2s 9ms/step - loss: 0.3482 - binary_accuracy: 0.8406 - val_loss: 0.3664 - val_binary_accuracy: 0.8324\n",
            "Epoch 9/200\n",
            "175/175 [==============================] - 2s 9ms/step - loss: 0.3463 - binary_accuracy: 0.8399 - val_loss: 0.3675 - val_binary_accuracy: 0.8311\n",
            "Epoch 10/200\n",
            "175/175 [==============================] - 1s 9ms/step - loss: 0.3425 - binary_accuracy: 0.8431 - val_loss: 0.3602 - val_binary_accuracy: 0.8337\n",
            "Epoch 11/200\n",
            "175/175 [==============================] - 2s 9ms/step - loss: 0.3379 - binary_accuracy: 0.8458 - val_loss: 0.3651 - val_binary_accuracy: 0.8322\n",
            "Epoch 12/200\n",
            "175/175 [==============================] - 2s 9ms/step - loss: 0.3296 - binary_accuracy: 0.8484 - val_loss: 0.3610 - val_binary_accuracy: 0.8349\n",
            "Epoch 13/200\n",
            "175/175 [==============================] - 2s 9ms/step - loss: 0.3279 - binary_accuracy: 0.8507 - val_loss: 0.3620 - val_binary_accuracy: 0.8341\n",
            "Epoch 14/200\n",
            "175/175 [==============================] - 2s 9ms/step - loss: 0.3235 - binary_accuracy: 0.8522 - val_loss: 0.3596 - val_binary_accuracy: 0.8372\n",
            "Epoch 15/200\n",
            "175/175 [==============================] - 2s 9ms/step - loss: 0.3225 - binary_accuracy: 0.8516 - val_loss: 0.3587 - val_binary_accuracy: 0.8357\n",
            "Epoch 16/200\n",
            "175/175 [==============================] - 2s 9ms/step - loss: 0.3204 - binary_accuracy: 0.8534 - val_loss: 0.3600 - val_binary_accuracy: 0.8356\n",
            "Epoch 17/200\n",
            "175/175 [==============================] - 1s 9ms/step - loss: 0.3160 - binary_accuracy: 0.8560 - val_loss: 0.3603 - val_binary_accuracy: 0.8354\n",
            "Epoch 18/200\n",
            "175/175 [==============================] - 2s 9ms/step - loss: 0.3094 - binary_accuracy: 0.8583 - val_loss: 0.3606 - val_binary_accuracy: 0.8403\n",
            "Epoch 19/200\n",
            "175/175 [==============================] - 2s 9ms/step - loss: 0.3105 - binary_accuracy: 0.8593 - val_loss: 0.3661 - val_binary_accuracy: 0.8345\n",
            "Epoch 20/200\n",
            "175/175 [==============================] - 2s 9ms/step - loss: 0.3079 - binary_accuracy: 0.8593 - val_loss: 0.3626 - val_binary_accuracy: 0.8344\n"
          ],
          "name": "stdout"
        },
        {
          "output_type": "execute_result",
          "data": {
            "text/plain": [
              "<matplotlib.axes._subplots.AxesSubplot at 0x7fb06d3ebd10>"
            ]
          },
          "metadata": {
            "tags": []
          },
          "execution_count": 12
        },
        {
          "output_type": "display_data",
          "data": {
            "image/png": "[encoded data removed]",
            "text/plain": [
              "<Figure size 432x288 with 1 Axes>"
            ]
          },
          "metadata": {
            "tags": [],
            "needs_background": "light"
          }
        },
        {
          "output_type": "display_data",
          "data": {
            "image/png": "[encoded data removed]",
            "text/plain": [
              "<Figure size 432x288 with 1 Axes>"
            ]
          },
          "metadata": {
            "tags": [],
            "needs_background": "light"
          }
        }
      ]
    }
  ]
}